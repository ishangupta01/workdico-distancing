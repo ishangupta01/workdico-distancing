{
  "nbformat": 4,
  "nbformat_minor": 0,
  "metadata": {
    "colab": {
      "name": "DistancingViolationDetector.ipynb",
      "provenance": [],
      "collapsed_sections": []
    },
    "kernelspec": {
      "name": "python3",
      "display_name": "Python 3"
    },
    "accelerator": "GPU"
  },
  "cells": [
    {
      "cell_type": "code",
      "metadata": {
        "id": "xyU7XVWkFUe5",
        "colab_type": "code",
        "colab": {}
      },
      "source": [
        "from google.colab import drive\n",
        "drive.mount('/content/drive')"
      ],
      "execution_count": 0,
      "outputs": []
    },
    {
      "cell_type": "code",
      "metadata": {
        "id": "y4hONwuc6-yd",
        "colab_type": "code",
        "colab": {}
      },
      "source": [
        "import numpy as np\n",
        "import cv2\n",
        "from math import sqrt, pow\n",
        "\n",
        "model = cv2.dnn.readNetFromCaffe(\"/content/drive/My Drive/Coding/SSD_MobileNet_prototxt.txt\",\n",
        "                                   \"/content/drive/My Drive/Coding/SSD_MobileNet.caffemodel\")\n",
        "cam = cv2.VideoCapture(\"/content/drive/My Drive/Coding/dvpm2.avi\")\n",
        "F=615\n",
        "res=(int(cam.get(3)),int(cam.get(4)))\n",
        "w=int(cam.get(3))\n",
        "h=int(cam.get(4))\n",
        "fourcc = cv2.VideoWriter_fourcc(*'XVID')\n",
        "out = cv2.VideoWriter('dvpm_result.avi', fourcc, 20.0, res)\n",
        "frameno=0\n",
        "\n",
        "while True:\n",
        "  (rval, im) = cam.read()\n",
        "  print(frameno)\n",
        "  frameno=frameno+1\n",
        "  # predicting \n",
        "  if rval == True:\n",
        "    #im=cv2.resize(im, (299, 299))\n",
        "\n",
        "    resized=cv2.resize(im, (300, 300))\n",
        "    blob = cv2.dnn.blobFromImage(resized, 0.008, (300, 300), 127.5)\n",
        "    model.setInput(blob)\n",
        "    det=model.forward()\n",
        "    coords_cm={}\n",
        "    coords={}\n",
        "    tooclose=[]\n",
        "    for i in range(det.shape[2]):\n",
        "      if det[0, 0, i, 2]>0.2: #probability of detection being detected object\n",
        "        if int(det[0,0,i,1]==15): #is a human\n",
        "          coords_x=det[0, 0, i, 3:7]\n",
        "          coords_x=coords_x*np.array([w, h, w, h])\n",
        "          (x,y,x2,y2)=coords_x.astype(\"int\")\n",
        "          coords[i]=(x,y,x2,y2)\n",
        "          scalefactor=165/round(y2-y,2)\n",
        "          coords_cm[i]=(round((x+x2)/2,2)*scalefactor, round((y+y2)/2,2)*scalefactor, F*scalefactor)\n",
        "    \n",
        "    for i in coords_cm.keys():\n",
        "      for j in coords_cm.keys():\n",
        "        if i<j:\n",
        "          d=sqrt(pow(coords_cm[i][0]-coords_cm[j][0],2) + pow(coords_cm[i][1]-coords_cm[j][1],2) + pow(coords_cm[i][2]-coords_cm[j][2],2))\n",
        "          #print(i,\"to\",j,\"is\",d,\"cm\")\n",
        "          if d < 150:\n",
        "            tooclose.append(i)\n",
        "            tooclose.append(j)\n",
        "    \n",
        "    #time to plot rectangles!\n",
        "    for i in coords.keys():\n",
        "      (xa, ya, xb, yb)=coords[i]\n",
        "      if i in tooclose:\n",
        "        color=(0,0,255)\n",
        "      else:\n",
        "        color=(0,255,0)\n",
        "      cv2.rectangle(im, (xa,ya), (xb,yb), color, 2)\n",
        "    \n",
        "    out.write(im)\n",
        "\n",
        "  else:\n",
        "    print(\"VIDEO FINISHED\")\n",
        "    break\n",
        "  if cv2.waitKey(1) & 0xFF == 27: #Esc\n",
        "    break\n",
        "\n",
        "cam.release()\n",
        "out.release()"
      ],
      "execution_count": 0,
      "outputs": []
    }
  ]
}